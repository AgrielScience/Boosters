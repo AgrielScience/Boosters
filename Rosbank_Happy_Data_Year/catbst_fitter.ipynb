{
 "cells": [
  {
   "cell_type": "code",
   "execution_count": 2,
   "metadata": {},
   "outputs": [],
   "source": [
    "import numpy as np\n",
    "import pandas as pd\n",
    "from sklearn import preprocessing, decomposition\n",
    "from sklearn.cluster import KMeans\n",
    "from sklearn.preprocessing import StandardScaler\n",
    "from catboost import *\n",
    "import catboost\n",
    "import pandas as pd\n",
    "import numpy as np\n",
    "from math import sin, cos, sqrt, atan2, radians\n",
    "from tqdm import tqdm\n",
    "from sklearn.neighbors import KNeighborsClassifier\n",
    "from sklearn.metrics import mean_squared_error\n",
    "from sklearn.model_selection import train_test_split\n",
    "from sklearn.cluster import DBSCAN\n",
    "from sklearn.preprocessing import LabelEncoder\n",
    "from sklearn import metrics\n",
    "import matplotlib.pyplot as plt\n",
    "from sklearn.model_selection import StratifiedKFold\n",
    "from random import choice\n",
    "from scipy.stats import randint as sp_randint\n",
    "import gc\n",
    "from sklearn.model_selection import TimeSeriesSplit, KFold\n",
    "pd.options.display.max_columns = None\n",
    "%matplotlib inline"
   ]
  },
  {
   "cell_type": "code",
   "execution_count": 9,
   "metadata": {},
   "outputs": [],
   "source": [
    "def rmse(y_true, y_pred):\n",
    "    return sqrt(mean_squared_error(y_true, y_pred))\n",
    "data = pd.read_csv('data/full_data.csv')\n",
    "features = ['id', 'atm_group', 'city_type', 'city_rank', 'city_type_rank', 'dbcluster',\n",
    "            'geo_city', 'region', 'street', 'dbcluster', 'KMeans','MiniBatchKMeans',\n",
    "            'DBSCAN', 'Birch', 'MeanShift']\n",
    "for f in features:\n",
    "    data[f] = data[f].values.astype('str')\n",
    "    \n",
    "test = pd.read_csv('data/test.csv')\n",
    "\n",
    "#data['city_type'] = data['city_type'].values.astype('str')\n",
    "#data['city_type_rank'] = data['city_type_rank'].values.astype('str')\n",
    "#data['city_rank'] = data['city_rank'].values.astype('str')\n",
    "#data['atm_group'] = data['atm_group'].values.astype('str')\n",
    "#data['dbcluster'] = data['dbcluster'].values.astype('str')\n",
    "#data['id'] = data['id'].values.astype('str')"
   ]
  },
  {
   "cell_type": "code",
   "execution_count": 10,
   "metadata": {},
   "outputs": [],
   "source": [
    "X = data[data.isTrain == True].drop(['target', 'isTrain', 'address', 'address_rus', 'city'], 1)\n",
    "Y = data[data.isTrain == True][['target']]\n",
    "X_test = data[data.isTrain == False].drop(['target', 'isTrain', 'address', 'address_rus', 'city'], 1)"
   ]
  },
  {
   "cell_type": "code",
   "execution_count": 11,
   "metadata": {},
   "outputs": [],
   "source": [
    "cat_features = []\n",
    "for i in features:\n",
    "    cf = X.columns.get_loc(i)\n",
    "    cat_features.append(cf)"
   ]
  },
  {
   "cell_type": "markdown",
   "metadata": {},
   "source": [
    "Random Grid Search CV"
   ]
  },
  {
   "cell_type": "code",
   "execution_count": 26,
   "metadata": {},
   "outputs": [
    {
     "data": {
      "text/plain": [
       "5"
      ]
     },
     "execution_count": 26,
     "metadata": {},
     "output_type": "execute_result"
    }
   ],
   "source": [
    "n_iterations = 10 # number of iterations for random search\n",
    "top_n = 9 # select top n parameter sets\n",
    "\n",
    "rmse_mean = []\n",
    "rmse_std = []\n",
    "dict_list = []\n",
    "# prepare indexes for stratified cross validation\n",
    "skf = KFold(n_splits=5, shuffle=False)\n",
    "skf.get_n_splits(X, Y)"
   ]
  },
  {
   "cell_type": "code",
   "execution_count": null,
   "metadata": {},
   "outputs": [
    {
     "name": "stdout",
     "output_type": "stream",
     "text": [
      "Random search start...\n",
      "\n",
      "Cycle 1...\n",
      "0:\tlearn: 0.0825366\ttest: 0.0824228\ttest1: 0.0858336\tbest: 0.0858336 (0)\ttotal: 14.4ms\tremaining: 14.4s\n",
      "Stopped by overfitting detector  (100 iterations wait)\n",
      "\n",
      "bestTest = 0.04776715447\n",
      "bestIteration = 838\n",
      "\n",
      "Shrink model to first 839 iterations.\n",
      "0:\tlearn: 0.0834669\ttest: 0.0834444\ttest1: 0.0827698\tbest: 0.0827698 (0)\ttotal: 15.3ms\tremaining: 15.3s\n",
      "999:\tlearn: 0.0449948\ttest: 0.0442589\ttest1: 0.0447859\tbest: 0.0447846 (996)\ttotal: 11.4s\tremaining: 0us\n",
      "\n",
      "bestTest = 0.04478455335\n",
      "bestIteration = 996\n",
      "\n",
      "Shrink model to first 997 iterations.\n",
      "0:\tlearn: 0.0839672\ttest: 0.0839606\ttest1: 0.0831249\tbest: 0.0831249 (0)\ttotal: 14.9ms\tremaining: 14.9s\n",
      "999:\tlearn: 0.0450968\ttest: 0.0438075\ttest1: 0.0453703\tbest: 0.0453685 (996)\ttotal: 13.2s\tremaining: 0us\n",
      "\n",
      "bestTest = 0.0453685497\n",
      "bestIteration = 996\n",
      "\n",
      "Shrink model to first 997 iterations.\n",
      "0:\tlearn: 0.0838718\ttest: 0.0838660\ttest1: 0.0851953\tbest: 0.0851953 (0)\ttotal: 20.2ms\tremaining: 20.2s\n",
      "999:\tlearn: 0.0448905\ttest: 0.0437774\ttest1: 0.0455328\tbest: 0.0455324 (998)\ttotal: 12.6s\tremaining: 0us\n",
      "\n",
      "bestTest = 0.04553239512\n",
      "bestIteration = 998\n",
      "\n",
      "Shrink model to first 999 iterations.\n",
      "0:\tlearn: 0.0842292\ttest: 0.0842127\ttest1: 0.0811015\tbest: 0.0811015 (0)\ttotal: 16.2ms\tremaining: 16.1s\n",
      "999:\tlearn: 0.0443693\ttest: 0.0434708\ttest1: 0.0473903\tbest: 0.0473903 (999)\ttotal: 11.8s\tremaining: 0us\n",
      "\n",
      "bestTest = 0.04739029475\n",
      "bestIteration = 999\n",
      "\n",
      "Finish cycle 1...\n",
      "New iteration\n",
      "Cycle 2...\n",
      "0:\tlearn: 0.0846320\ttest: 0.0846295\ttest1: 0.0880758\tbest: 0.0880758 (0)\ttotal: 4.54ms\tremaining: 4.53s\n"
     ]
    }
   ],
   "source": [
    "# loop for random search\n",
    "print (\"Random search start...\")\n",
    "print (\"\")\n",
    "\n",
    "for i in range(0, n_iterations):\n",
    "    skf_split = skf.split(X, Y)\n",
    "    param_dist = {'depth': choice([3, 6, 8, 10, 16]),\n",
    "                  'learning_rate': choice([0.3, 0.1, 0.05, 0.01]),\n",
    "                  'l2_leaf_reg': choice([1, 3, 5, 7, 10]),\n",
    "                  'bagging_temperature': choice([0,1,5,7,10]),\n",
    "                  #'bootstrap_type': choice(['Bayesian', 'Bernoulli']),\n",
    "                  #'subsample': choice([0, 0.66, 1]),\n",
    "                  'random_strength': choice([1, 3, 5, 7]),\n",
    "                  'rsm': choice([0.1,0.3,0.5,0.7,1]),\n",
    "                  #'fold_len_multiplier': choice([1, 2, 5, 7]),\n",
    "                  'loss_function': 'RMSE',\n",
    "                  'iterations': 1000} \n",
    "    \n",
    "    rmse_metric = []\n",
    "    \n",
    "    print (\"Cycle {}...\".format(i+1))\n",
    "    for train_index, test_index in skf_split:\n",
    "    \n",
    "        X_train = X.iloc[train_index]\n",
    "        y_train = Y.iloc[train_index]\n",
    "    \n",
    "        X_val = X.iloc[test_index]\n",
    "        y_val = Y.iloc[test_index]\n",
    "    \n",
    "        # training\n",
    "        model = CatBoostRegressor(**param_dist)\n",
    "        model.fit(X_train, y_train, cat_features=cat_features,\n",
    "                 eval_set=[(X_train, y_train), (X_val, y_val)], \n",
    "                 early_stopping_rounds=100, verbose=1000)\n",
    "        # predicting\n",
    "        y_pred = model.predict(X_val, ntree_end=model.best_iteration_)\n",
    "        \n",
    "        rmse_i = rmse(y_val, y_pred)\n",
    "        rmse_metric.append(rmse_i)\n",
    "   \n",
    "    print (\"Finish cycle {}...\".format(i+1))\n",
    "\n",
    "    rmse_array = np.asarray(rmse_metric)\n",
    "    \n",
    "    rmse_mean.append(rmse_array.mean())\n",
    "    rmse_std.append(rmse_array.std())\n",
    "    dict_list.append(param_dist)\n",
    "    gc.collect()\n",
    "    print('New iteration')\n",
    "\n",
    "results_pd = pd.DataFrame({\"rmse_mean\": rmse_mean,\n",
    "                           \"rmse_std\": rmse_std,\n",
    "                           \"parameters\": dict_list})"
   ]
  },
  {
   "cell_type": "code",
   "execution_count": null,
   "metadata": {},
   "outputs": [],
   "source": [
    "z = results_pd.sort_values('rmse_mean').copy().reset_index()\n",
    "print(\"Minimum mean RMSE : \", z.rmse_mean.min(), \"\\nAnd the parameters list is : \\n\", z.parameters[0])"
   ]
  },
  {
   "cell_type": "code",
   "execution_count": null,
   "metadata": {},
   "outputs": [],
   "source": []
  },
  {
   "cell_type": "code",
   "execution_count": null,
   "metadata": {},
   "outputs": [],
   "source": []
  },
  {
   "cell_type": "markdown",
   "metadata": {},
   "source": [
    "Train catboost"
   ]
  },
  {
   "cell_type": "code",
   "execution_count": 12,
   "metadata": {},
   "outputs": [],
   "source": [
    "params = {'depth': 3, 'iterations': 100000, \n",
    "        'learning_rate': 0.1, 'random_seed': 1111,\n",
    "        'loss_function': 'RMSE'}\n",
    "n_fold = 10\n",
    "folds = KFold(n_splits=n_fold, shuffle=False, random_state=42)\n",
    "# Cleaning and defining parameters for LGBM\n",
    "model = CatBoostRegressor(**params)"
   ]
  },
  {
   "cell_type": "code",
   "execution_count": 13,
   "metadata": {},
   "outputs": [
    {
     "name": "stdout",
     "output_type": "stream",
     "text": [
      "Fold: 0\n",
      "0:\tlearn: 0.0819241\ttest: 0.0819131\ttest1: 0.0653144\tbest: 0.0653144 (0)\ttotal: 76.3ms\tremaining: 2h 7m 10s\n",
      "500:\tlearn: 0.0415648\ttest: 0.0389923\ttest1: 0.0495886\tbest: 0.0495864 (498)\ttotal: 5.2s\tremaining: 17m 13s\n",
      "Stopped by overfitting detector  (100 iterations wait)\n",
      "\n",
      "bestTest = 0.04926541063\n",
      "bestIteration = 831\n",
      "\n",
      "Shrink model to first 832 iterations.\n",
      "Fold: 1\n",
      "0:\tlearn: 0.0781122\ttest: 0.0780916\ttest1: 0.0974687\tbest: 0.0974687 (0)\ttotal: 13.9ms\tremaining: 23m 12s\n",
      "Stopped by overfitting detector  (100 iterations wait)\n",
      "\n",
      "bestTest = 0.04377114071\n",
      "bestIteration = 87\n",
      "\n",
      "Shrink model to first 88 iterations.\n",
      "Fold: 2\n",
      "0:\tlearn: 0.0821966\ttest: 0.0821881\ttest1: 0.0600900\tbest: 0.0600900 (0)\ttotal: 14.3ms\tremaining: 23m 46s\n",
      "Stopped by overfitting detector  (100 iterations wait)\n",
      "\n",
      "bestTest = 0.04571370511\n",
      "bestIteration = 247\n",
      "\n",
      "Shrink model to first 248 iterations.\n",
      "Fold: 3\n",
      "0:\tlearn: 0.0783726\ttest: 0.0783519\ttest1: 0.0951434\tbest: 0.0951434 (0)\ttotal: 13.5ms\tremaining: 22m 34s\n",
      "Stopped by overfitting detector  (100 iterations wait)\n",
      "\n",
      "bestTest = 0.04265620286\n",
      "bestIteration = 249\n",
      "\n",
      "Shrink model to first 250 iterations.\n",
      "Fold: 4\n",
      "0:\tlearn: 0.0819716\ttest: 0.0819655\ttest1: 0.0631456\tbest: 0.0631456 (0)\ttotal: 17ms\tremaining: 28m 21s\n",
      "500:\tlearn: 0.0420414\ttest: 0.0397809\ttest1: 0.0451961\tbest: 0.0451838 (497)\ttotal: 5.71s\tremaining: 18m 53s\n",
      "Stopped by overfitting detector  (100 iterations wait)\n",
      "\n",
      "bestTest = 0.04506777833\n",
      "bestIteration = 676\n",
      "\n",
      "Shrink model to first 677 iterations.\n",
      "Fold: 5\n",
      "0:\tlearn: 0.0786298\ttest: 0.0786092\ttest1: 0.0930973\tbest: 0.0930973 (0)\ttotal: 16ms\tremaining: 26m 42s\n",
      "Stopped by overfitting detector  (100 iterations wait)\n",
      "\n",
      "bestTest = 0.04359246286\n",
      "bestIteration = 390\n",
      "\n",
      "Shrink model to first 391 iterations.\n",
      "Fold: 6\n",
      "0:\tlearn: 0.0819966\ttest: 0.0819773\ttest1: 0.0627805\tbest: 0.0627805 (0)\ttotal: 13.9ms\tremaining: 23m 9s\n",
      "500:\tlearn: 0.0419760\ttest: 0.0397440\ttest1: 0.0458052\tbest: 0.0457797 (467)\ttotal: 5.26s\tremaining: 17m 23s\n",
      "Stopped by overfitting detector  (100 iterations wait)\n",
      "\n",
      "bestTest = 0.04559691897\n",
      "bestIteration = 665\n",
      "\n",
      "Shrink model to first 666 iterations.\n",
      "Fold: 7\n",
      "0:\tlearn: 0.0782563\ttest: 0.0782355\ttest1: 0.0963314\tbest: 0.0963314 (0)\ttotal: 13.7ms\tremaining: 22m 48s\n",
      "Stopped by overfitting detector  (100 iterations wait)\n",
      "\n",
      "bestTest = 0.0431740178\n",
      "bestIteration = 260\n",
      "\n",
      "Shrink model to first 261 iterations.\n",
      "Fold: 8\n",
      "0:\tlearn: 0.0819415\ttest: 0.0819199\ttest1: 0.0632347\tbest: 0.0632347 (0)\ttotal: 13.6ms\tremaining: 22m 40s\n",
      "500:\tlearn: 0.0421268\ttest: 0.0399448\ttest1: 0.0468328\tbest: 0.0468049 (463)\ttotal: 5.01s\tremaining: 16m 35s\n",
      "1000:\tlearn: 0.0404829\ttest: 0.0385708\ttest1: 0.0464301\tbest: 0.0464300 (998)\ttotal: 10.1s\tremaining: 16m 36s\n",
      "Stopped by overfitting detector  (100 iterations wait)\n",
      "\n",
      "bestTest = 0.04641781972\n",
      "bestIteration = 1009\n",
      "\n",
      "Shrink model to first 1010 iterations.\n",
      "Fold: 9\n",
      "0:\tlearn: 0.0790180\ttest: 0.0789967\ttest1: 0.0901597\tbest: 0.0901597 (0)\ttotal: 13.6ms\tremaining: 22m 37s\n",
      "Stopped by overfitting detector  (100 iterations wait)\n",
      "\n",
      "bestTest = 0.04513096265\n",
      "bestIteration = 52\n",
      "\n",
      "Shrink model to first 53 iterations.\n"
     ]
    }
   ],
   "source": [
    "prediction = np.zeros(test.shape[0])\n",
    "\n",
    "for fold_n, (train_index, test_index) in enumerate(folds.split(X)):\n",
    "    print('Fold:', fold_n)\n",
    "    X_train, X_valid = X.iloc[train_index], X.iloc[test_index]\n",
    "    Y_train, Y_valid = Y.iloc[train_index], Y.iloc[test_index]\n",
    "    #train_pool = Pool(data=X_train, label=Y_train, cat_features=cat_features)\n",
    "    #val_pool = Pool(data=X_valid, label=Y_valid, cat_features=cat_features)\n",
    "\n",
    "    model.fit(X_train, Y_train, cat_features=cat_features,\n",
    "            eval_set=[(X_train, Y_train), (X_valid, Y_valid)], \n",
    "            early_stopping_rounds=100, verbose=500)\n",
    "    \n",
    "    y_pred = model.predict(X_test, ntree_end=model.best_iteration_)\n",
    "    prediction += y_pred\n",
    "prediction /= n_fold"
   ]
  },
  {
   "cell_type": "code",
   "execution_count": 21,
   "metadata": {},
   "outputs": [],
   "source": [
    "submission = pd.DataFrame(prediction, index=test.index, columns=['target'])"
   ]
  },
  {
   "cell_type": "code",
   "execution_count": 22,
   "metadata": {},
   "outputs": [],
   "source": [
    "submission.reset_index(level=0, inplace=True)\n",
    "submission.index.name = \"\""
   ]
  },
  {
   "cell_type": "code",
   "execution_count": 25,
   "metadata": {},
   "outputs": [],
   "source": [
    "submission.to_csv('catboost_submit_18.12.2018.csv',index=False)"
   ]
  },
  {
   "cell_type": "code",
   "execution_count": 24,
   "metadata": {},
   "outputs": [
    {
     "data": {
      "text/html": [
       "<div>\n",
       "<style scoped>\n",
       "    .dataframe tbody tr th:only-of-type {\n",
       "        vertical-align: middle;\n",
       "    }\n",
       "\n",
       "    .dataframe tbody tr th {\n",
       "        vertical-align: top;\n",
       "    }\n",
       "\n",
       "    .dataframe thead th {\n",
       "        text-align: right;\n",
       "    }\n",
       "</style>\n",
       "<table border=\"1\" class=\"dataframe\">\n",
       "  <thead>\n",
       "    <tr style=\"text-align: right;\">\n",
       "      <th></th>\n",
       "      <th>index</th>\n",
       "      <th>target</th>\n",
       "    </tr>\n",
       "    <tr>\n",
       "      <th></th>\n",
       "      <th></th>\n",
       "      <th></th>\n",
       "    </tr>\n",
       "  </thead>\n",
       "  <tbody>\n",
       "    <tr>\n",
       "      <th>0</th>\n",
       "      <td>0</td>\n",
       "      <td>-0.038721</td>\n",
       "    </tr>\n",
       "    <tr>\n",
       "      <th>1</th>\n",
       "      <td>1</td>\n",
       "      <td>-0.043709</td>\n",
       "    </tr>\n",
       "    <tr>\n",
       "      <th>2</th>\n",
       "      <td>2</td>\n",
       "      <td>-0.016416</td>\n",
       "    </tr>\n",
       "    <tr>\n",
       "      <th>3</th>\n",
       "      <td>3</td>\n",
       "      <td>-0.043427</td>\n",
       "    </tr>\n",
       "    <tr>\n",
       "      <th>4</th>\n",
       "      <td>4</td>\n",
       "      <td>-0.000173</td>\n",
       "    </tr>\n",
       "  </tbody>\n",
       "</table>\n",
       "</div>"
      ],
      "text/plain": [
       "   index    target\n",
       "                  \n",
       "0      0 -0.038721\n",
       "1      1 -0.043709\n",
       "2      2 -0.016416\n",
       "3      3 -0.043427\n",
       "4      4 -0.000173"
      ]
     },
     "execution_count": 24,
     "metadata": {},
     "output_type": "execute_result"
    }
   ],
   "source": [
    "submission.head()"
   ]
  }
 ],
 "metadata": {
  "kernelspec": {
   "display_name": "Python 3",
   "language": "python",
   "name": "python3"
  },
  "language_info": {
   "codemirror_mode": {
    "name": "ipython",
    "version": 3
   },
   "file_extension": ".py",
   "mimetype": "text/x-python",
   "name": "python",
   "nbconvert_exporter": "python",
   "pygments_lexer": "ipython3",
   "version": "3.6.5"
  }
 },
 "nbformat": 4,
 "nbformat_minor": 2
}
